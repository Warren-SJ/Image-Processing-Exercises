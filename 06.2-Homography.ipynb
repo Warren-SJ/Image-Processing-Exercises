{
 "cells": [
  {
   "cell_type": "markdown",
   "metadata": {},
   "source": [
    "### Homography"
   ]
  },
  {
   "cell_type": "code",
   "execution_count": 1,
   "metadata": {},
   "outputs": [],
   "source": [
    "import numpy as np\n",
    "import cv2 as cv"
   ]
  },
  {
   "cell_type": "code",
   "execution_count": 2,
   "metadata": {},
   "outputs": [],
   "source": [
    "im1 = cv.imread('images/graf/img1.ppm',cv.IMREAD_COLOR)\n",
    "im2 = cv.imread('images/graf/img2.ppm',cv.IMREAD_COLOR)\n",
    "\n",
    "with open('images/graf/H1to2p') as f:\n",
    "    H = np.array([[float(h) for h in line.split()] for line in f])\n",
    "\n",
    "im1to2 = cv.warpPerspective(im1,H,(1000,1000)) # 1000,1000 is the size of the output image\n",
    "im2to1 = cv.warpPerspective(im2,np.linalg.inv(H),(1200,1200))\n",
    "im2to1[0:im1.shape[0],0:im1.shape[1]] = im1\n",
    "\n",
    "# cv.namedWindow('image1', cv.WINDOW_AUTOSIZE)\n",
    "cv.imshow('Image 1', im1)\n",
    "# cv.namedWindow('Image 2', cv.WINDOW_AUTOSIZE)\n",
    "cv.imshow('Image 2', im2)\n",
    "# cv.namedWindow('image1waarped', cv.WINDOW_AUTOSIZE)\n",
    "cv.imshow('Image 1 Warped', im1to2)\n",
    "# cv.namedWindow('image2waarped', cv.WINDOW_AUTOSIZE)\n",
    "cv.imshow('Image 2 Warped', im2to1)\n",
    "cv.waitKey(0)\n",
    "cv.destroyAllWindows()"
   ]
  },
  {
   "cell_type": "markdown",
   "metadata": {},
   "source": [
    "### Computing the Homography with mouse clicked points and warping"
   ]
  },
  {
   "cell_type": "code",
   "execution_count": 3,
   "metadata": {},
   "outputs": [
    {
     "name": "stdout",
     "output_type": "stream",
     "text": [
      "Done\n",
      "(array([[ 7.90845400e-01,  2.24499747e-01, -1.17312515e+01],\n",
      "       [-1.96783942e-01,  7.89167034e-01,  1.71711686e+02],\n",
      "       [ 1.06689582e-04, -1.91839048e-04,  1.00000000e+00]]), array([[1],\n",
      "       [1],\n",
      "       [1],\n",
      "       [1],\n",
      "       [1]], dtype=uint8))\n"
     ]
    }
   ],
   "source": [
    "im1 = cv.imread('images/graf/img1.ppm',cv.IMREAD_COLOR)\n",
    "im2 = cv.imread('images/graf/img2.ppm',cv.IMREAD_COLOR)\n",
    "\n",
    "N= 5 # Number of points that are to be clicked\n",
    "n = 0\n",
    "p1 = np.empty((N,2),dtype=np.int32)\n",
    "p2 = np.empty((N,2),dtype=np.int32)\n",
    "\n",
    "def draw_circle(event,x,y,image,param):\n",
    "    global n\n",
    "    p = param[0]\n",
    "    if event == cv.EVENT_LBUTTONDOWN:\n",
    "        cv.circle(param[1], (x,y), 5, (0,0,255), -1)\n",
    "        p[n] = (x,y)\n",
    "        cv.imshow('Image 1',im1)\n",
    "        n +=1\n",
    "    \n",
    "im1copy = im1.copy()\n",
    "im2copy = im2.copy()\n",
    "\n",
    "cv.namedWindow('Image 1', cv.WINDOW_AUTOSIZE)\n",
    "\n",
    "param = [p1,im1copy]\n",
    "cv.setMouseCallback('Image 1',draw_circle,param)\n",
    "while(1):\n",
    "    cv.imshow('Image 1',im1copy)\n",
    "    if n == N:\n",
    "        break\n",
    "    if cv.waitKey(20) & 0xFF == 27:\n",
    "        break\n",
    "cv.destroyAllWindows()\n",
    "print(\"Done\")\n",
    "def draw_circle(event,x,y,image,param):\n",
    "    global n\n",
    "    p = param[0]\n",
    "    if event == cv.EVENT_LBUTTONDOWN:\n",
    "        cv.circle(param[1], (x,y), 5, (0,0,255), -1)\n",
    "        p[n] = (x,y)\n",
    "        cv.imshow('Image 2',im2)\n",
    "        n +=1\n",
    "param = [p2,im2copy]\n",
    "n = 0\n",
    "cv.namedWindow('Image 2', cv.WINDOW_AUTOSIZE)\n",
    "cv.setMouseCallback('Image 2',draw_circle,param)\n",
    "while(1):\n",
    "    cv.imshow('Image 2',im2copy)\n",
    "    if n == N:\n",
    "        break\n",
    "    if cv.waitKey(20) & 0xFF == 27:\n",
    "        break\n",
    "cv.destroyAllWindows()\n",
    "H = cv.findHomography(p1,p2)\n",
    "print(H)\n",
    "im1to2 = cv.warpPerspective(im1,H[0],(1000,1000))\n",
    "im2to1 = cv.warpPerspective(im2,np.linalg.inv(H[0]),(1200,1200))\n",
    "im2to1[0:im1.shape[0],0:im1.shape[1]] = im1\n",
    "cv.imshow('Image 1 Warped', im1to2)\n",
    "cv.imshow('Image 2 Warped', im2to1)\n",
    "cv.waitKey(0)\n",
    "cv.destroyAllWindows()\n",
    "\n",
    "# Stiching multiple images!"
   ]
  }
 ],
 "metadata": {
  "kernelspec": {
   "display_name": "Python 3",
   "language": "python",
   "name": "python3"
  },
  "language_info": {
   "codemirror_mode": {
    "name": "ipython",
    "version": 3
   },
   "file_extension": ".py",
   "mimetype": "text/x-python",
   "name": "python",
   "nbconvert_exporter": "python",
   "pygments_lexer": "ipython3",
   "version": "3.12.7"
  }
 },
 "nbformat": 4,
 "nbformat_minor": 2
}
