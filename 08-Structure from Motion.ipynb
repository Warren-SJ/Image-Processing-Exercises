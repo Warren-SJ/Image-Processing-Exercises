{
 "cells": [
  {
   "cell_type": "markdown",
   "metadata": {},
   "source": [
    "# Structure from Motion\n",
    "\n",
    "Structure from Motion (SfM) is a technique in computer vision used to reconstruct 3D structures from 2D image sequences (videos or photos) by analyzing motion across frames. Essentially, it allows the recovery of the 3D geometry and the relative camera positions by examining how objects move within a scene as viewed from different perspectives.\n",
    "\n",
    "In camera calibration, we had a set of known 3D points and their corresponding 2D projections in the image and we aimed to compute the camera parameters. In triangulation, we had two images of the same scene and we knew both camera's parameters and we aimed to compute the 3D position of a point given its 2D projections in both images. In SfM, we have a sequence of images and we aim to compute the 3D positions of the points and the camera parameters.\n",
    "\n",
    "### Steps\n",
    "\n",
    "1. **Feature Detection and Matching**: Detect and match features across images.\n",
    "\n",
    "2. **Camera Pose Estimation**: Estimate the camera poses from the matched features.\n",
    "\n",
    "3. **Triangulation**: Compute the 3D positions of the points.\n",
    "\n",
    "4. **Bundle Adjustment**: Refine the camera poses and 3D points."
   ]
  }
 ],
 "metadata": {
  "kernelspec": {
   "display_name": "Python 3",
   "language": "python",
   "name": "python3"
  },
  "language_info": {
   "name": "python",
   "version": "3.12.7"
  }
 },
 "nbformat": 4,
 "nbformat_minor": 2
}
